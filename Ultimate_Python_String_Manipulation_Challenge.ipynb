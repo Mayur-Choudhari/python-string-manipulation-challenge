{
  "nbformat": 4,
  "nbformat_minor": 0,
  "metadata": {
    "colab": {
      "provenance": []
    },
    "kernelspec": {
      "name": "python3",
      "display_name": "Python 3"
    },
    "language_info": {
      "name": "python"
    }
  },
  "cells": [
    {
      "cell_type": "markdown",
      "source": [
        "# 🚀 **Ultimate Python String Manipulation Challenge** 🚀\n",
        "\n",
        "## What You'll Learn\n",
        "- **Counting Characters:** Implementing a character count in a string without using built-in functions.\n",
        "- **String Reversal:** Reversing strings using different methods.\n",
        "- **Palindrome Check:** Determining if a string is a palindrome without using slicing.\n",
        "- **Anagram Detection:** Checking if two strings are anagrams.\n",
        "- **Vowel Removal:** Removing vowels from a string.\n",
        "- **Longest Word:** Finding the longest word in a given string.\n",
        "- **Sum of Even ASCII Values:** Summing the ASCII values of even characters in a string.\n",
        "- **Capitalizing Words:** Capitalizing the first letter of each word without built-in functions.\n",
        "\n",
        "## 🏆 **Challenge Questions** 🏆\n",
        "\n",
        "Put your skills to the test! Here are three challenge questions for you to solve. Share your solutions in the comments or download the notebook from GitHub to participate.\n",
        "\n",
        "### Challenge 1\n",
        "**Capitalize the first letter of each word in a string [don't use the built-in function `title`].**\n",
        "\n",
        "### Challenge 2\n",
        "**Find the frequency of each character in a string.**\n",
        "\n",
        "### Challenge 3\n",
        "**Find the most common character in a string.**\n",
        "\n",
        "## Comment your solution.\n",
        "\n",
        "Get coding and join the challenge!\n"
      ],
      "metadata": {
        "id": "XzE5K6asUUNh"
      }
    },
    {
      "cell_type": "markdown",
      "source": [
        "### Question 1: Write a Python program to count the number of characters in a string without using len function.\n",
        "\n",
        "- `sample input : `\n",
        "    - `var = 'python java'`\n",
        "- `sample output :`\n",
        "    - `result : 11`"
      ],
      "metadata": {
        "id": "OpEk1qA1xsbN"
      }
    },
    {
      "cell_type": "code",
      "execution_count": null,
      "metadata": {
        "colab": {
          "base_uri": "https://localhost:8080/"
        },
        "id": "oBj_k9_fxNzh",
        "outputId": "94410b45-7a57-4cf8-9459-2a4970bf344b"
      },
      "outputs": [
        {
          "output_type": "stream",
          "name": "stdout",
          "text": [
            "The number of character in given string is 11\n"
          ]
        }
      ],
      "source": [
        "# 1st Type\n",
        "\n",
        "var='python java'\n",
        "m=0\n",
        "\n",
        "for i in var:\n",
        "  m=m+1\n",
        "print(f'The number of character in given string is {m}')"
      ]
    },
    {
      "cell_type": "code",
      "source": [
        "# 2nd Type\n",
        "\n",
        "def fun(var):\n",
        "  m=0\n",
        "  for i in var:\n",
        "    m=m+1\n",
        "  return m\n",
        "\n",
        "char=fun('python java')\n",
        "print(f'The number of character in given string : {char}')\n"
      ],
      "metadata": {
        "colab": {
          "base_uri": "https://localhost:8080/",
          "height": 0
        },
        "id": "VTodmCXTyI3G",
        "outputId": "41c73a8e-9f80-47f1-8779-c07218df9285"
      },
      "execution_count": 12,
      "outputs": [
        {
          "output_type": "stream",
          "name": "stdout",
          "text": [
            "The number of character in given string : 11\n"
          ]
        }
      ]
    },
    {
      "cell_type": "code",
      "source": [
        "\n",
        "\n",
        "def fun(var):\n",
        "  m=0\n",
        "  for i in var:\n",
        "    m=m+1\n",
        "  return m\n",
        "\n",
        "print(\"Enter your String\")\n",
        "char=fun(str(input()))\n",
        "print(f'The number of character in given string : {char}')"
      ],
      "metadata": {
        "colab": {
          "base_uri": "https://localhost:8080/",
          "height": 0
        },
        "id": "uZ17LgjBz3H-",
        "outputId": "5766eb3f-74a5-4df5-cd32-7f0bb0c9b1eb"
      },
      "execution_count": 14,
      "outputs": [
        {
          "output_type": "stream",
          "name": "stdout",
          "text": [
            "Enter your String\n",
            "data analyst\n",
            "The number of character in given string : 12\n"
          ]
        }
      ]
    },
    {
      "cell_type": "markdown",
      "source": [
        "### Question 2: Write a Python program to reverse a string without using [::-1]\n",
        "\n",
        "- `sample input : `\n",
        "    - `var = 'python'`\n",
        "- `sample output :`\n",
        "    - `result : nohtyp`"
      ],
      "metadata": {
        "id": "TDxpSR5O0ZI7"
      }
    },
    {
      "cell_type": "code",
      "source": [
        "# 1st Type\n",
        "m='Mayur'\n",
        "a=''\n",
        "\n",
        "for i in m:\n",
        "  a=i+a\n",
        "print(f'Reverse string is : {a}')"
      ],
      "metadata": {
        "colab": {
          "base_uri": "https://localhost:8080/",
          "height": 0
        },
        "id": "gl2pChe40SJP",
        "outputId": "ba574d83-356c-4901-9931-3f55589f8e36"
      },
      "execution_count": 9,
      "outputs": [
        {
          "output_type": "stream",
          "name": "stdout",
          "text": [
            "Reverse string is : ruyaM\n"
          ]
        }
      ]
    },
    {
      "cell_type": "code",
      "source": [
        "# 2nd Type\n",
        "\n",
        "def fun(var):\n",
        "  a=''\n",
        "  for i in var:\n",
        "    a=i+a\n",
        "  print(f'Reverse string is : {a}')\n",
        "\n",
        "fun('maddy')"
      ],
      "metadata": {
        "colab": {
          "base_uri": "https://localhost:8080/",
          "height": 0
        },
        "id": "doxAEIkx1EqP",
        "outputId": "936e80e0-3c9b-4fda-d7e8-5e4cab060b5e"
      },
      "execution_count": 10,
      "outputs": [
        {
          "output_type": "stream",
          "name": "stdout",
          "text": [
            "Reverse string is : yddam\n"
          ]
        }
      ]
    },
    {
      "cell_type": "code",
      "source": [
        "# 3rd Type\n",
        "\n",
        "print('Enter your string to reverse :')\n",
        "\n",
        "def fun(var):\n",
        "  a=''\n",
        "  for i in var:\n",
        "    a=i+a\n",
        "  print(f'Reverse string is : {a}')\n",
        "\n",
        "var=fun(str(input()))"
      ],
      "metadata": {
        "colab": {
          "base_uri": "https://localhost:8080/",
          "height": 0
        },
        "id": "h_i6IltH1aSl",
        "outputId": "f079159e-8681-4634-d6e5-3809930de945"
      },
      "execution_count": 16,
      "outputs": [
        {
          "output_type": "stream",
          "name": "stdout",
          "text": [
            "Enter your string to reverse :\n",
            "data science\n",
            "Reverse string is : ecneics atad\n"
          ]
        }
      ]
    },
    {
      "cell_type": "markdown",
      "source": [
        "### Question 3: Write a Python program to check if a string is a palindrome don't use [::-1].\n",
        "\n",
        "- `sample input : `\n",
        "    - `var = 'NUN'`\n",
        "- `sample output :`\n",
        "    - `result : It is a Palindrome`\n",
        "    \n",
        "- `palindrome concept = https://www.dictionary.com/e/palindromic-word/#:~:text=A%20palindrome%20is%20a%20word,roots%20in%20the%20early%201600s.`"
      ],
      "metadata": {
        "id": "jNmEVxj62YTi"
      }
    },
    {
      "cell_type": "code",
      "source": [
        "# 1st Type\n",
        "m='noon'\n",
        "a=''\n",
        "for i in m:\n",
        "  a=i+a\n",
        "\n",
        "if m == a:\n",
        "  print(f'Given string is Palindrome')\n",
        "else:\n",
        "  print(f'Given strings is not palindrome')"
      ],
      "metadata": {
        "colab": {
          "base_uri": "https://localhost:8080/"
        },
        "id": "rLjQwK9t2V8e",
        "outputId": "5b348aa8-8505-4fe6-b7c8-b8a71fe9c6b5"
      },
      "execution_count": null,
      "outputs": [
        {
          "output_type": "stream",
          "name": "stdout",
          "text": [
            "Given string is Palindrome\n"
          ]
        }
      ]
    },
    {
      "cell_type": "code",
      "source": [
        "# 2nd Type\n",
        "\n",
        "def fun(m):\n",
        "  a=''\n",
        "  for i in m:\n",
        "    a=i+a\n",
        "\n",
        "  if m == a:\n",
        "    print(f'Given string is Palindrome')\n",
        "  else:\n",
        "    print(f'Given string is not Palindrome')\n",
        "\n",
        "\n",
        "fun('rotator')"
      ],
      "metadata": {
        "colab": {
          "base_uri": "https://localhost:8080/"
        },
        "id": "cqLd47Xw3CAJ",
        "outputId": "bd6b2672-6bad-463c-ac6a-bb5f7e09c2a9"
      },
      "execution_count": null,
      "outputs": [
        {
          "output_type": "stream",
          "name": "stdout",
          "text": [
            "Given string is Palindrome\n"
          ]
        }
      ]
    },
    {
      "cell_type": "code",
      "source": [
        "# 3rd type\n",
        "\n",
        "print('Enter your string to check whether it is Palindrome or not :')\n",
        "\n",
        "def fun(m):\n",
        "  a=''\n",
        "  for i in m:\n",
        "    a=i+a\n",
        "  if m == a:\n",
        "    print(f'Given string is Palindrome')\n",
        "  else:\n",
        "    print(f'Given string is not Palindrome')\n",
        "\n",
        "m=(str(input()))\n",
        "fun(m)\n"
      ],
      "metadata": {
        "colab": {
          "base_uri": "https://localhost:8080/"
        },
        "id": "ReWDgKBn3hT9",
        "outputId": "f2eb02ee-6340-4cfa-d56b-7423fde69922"
      },
      "execution_count": null,
      "outputs": [
        {
          "output_type": "stream",
          "name": "stdout",
          "text": [
            "Enter your string to check whether it is Palindrome or not :\n",
            "rotator\n",
            "Given string is Palindrome\n"
          ]
        }
      ]
    },
    {
      "cell_type": "markdown",
      "source": [
        "### Question 4: Write a Python program to check if two strings are anagrams.\n",
        "\n",
        "- `sample input : `\n",
        "    - `var1 = 'listen'`\n",
        "    - `var2 = 'silent'`\n",
        "- `sample output :`\n",
        "    - `result : both are anagram because characters in var2 is in var1`"
      ],
      "metadata": {
        "id": "6RTKSaYy5ogY"
      }
    },
    {
      "cell_type": "code",
      "source": [
        "# 1st type\n",
        "\n",
        "str1='listen'\n",
        "str2 ='silent'\n",
        "str1=str1.lower()\n",
        "str2=str2.lower()\n",
        "\n",
        "if len(str1) != len(str2):\n",
        "  print(f'Both are not anagram because characters in {str1} is not in {str2}')\n",
        "elif sorted(str1) == sorted(str2):\n",
        "  print(f'Both are anagram because characters in {str1} is in {str2}')\n",
        "else:\n",
        "  print(f'Both are not anagram because characters in {str1} is not in {str2}')"
      ],
      "metadata": {
        "colab": {
          "base_uri": "https://localhost:8080/",
          "height": 0
        },
        "id": "6oiGaaj-5tE_",
        "outputId": "5dfa419a-1208-4d3d-ab68-08110abb8cec"
      },
      "execution_count": 8,
      "outputs": [
        {
          "output_type": "stream",
          "name": "stdout",
          "text": [
            "Both are anagram because characters in listen is in silent\n"
          ]
        }
      ]
    },
    {
      "cell_type": "markdown",
      "source": [
        "### Question 5: Write a Python program to remove all the vowels from a string.\n",
        "\n",
        "- `sample input : `\n",
        "    - `var = 'python'`\n",
        "- `sample output :`\n",
        "    - `result : pythn , because vowels are [AEIOUaeiou]`"
      ],
      "metadata": {
        "id": "00FbKGLR-U-4"
      }
    },
    {
      "cell_type": "code",
      "source": [
        "# 1st Type\n",
        "\n",
        "m='python'\n",
        "a=''\n",
        "var={'a','e','i','o','u','A','E','I','O','U'}\n",
        "for i in m:\n",
        "  if i not in var:\n",
        "    a=a+i\n",
        "print(a)"
      ],
      "metadata": {
        "colab": {
          "base_uri": "https://localhost:8080/"
        },
        "id": "yURl9k8595PS",
        "outputId": "2275c415-fff8-44fe-ab99-b14ddb3bdc92"
      },
      "execution_count": null,
      "outputs": [
        {
          "output_type": "stream",
          "name": "stdout",
          "text": [
            "pythn\n"
          ]
        }
      ]
    },
    {
      "cell_type": "markdown",
      "source": [
        "### Question 6: Write a Python program to find the longest word in a string.\n",
        "\n",
        "- `sample input : `\n",
        "    - `var = 'python is Easy Language'`\n",
        "- `sample output :`\n",
        "    - `result : Language`"
      ],
      "metadata": {
        "id": "HygGupIv_t7u"
      }
    },
    {
      "cell_type": "code",
      "source": [
        "m='i love python language '\n",
        "s=''\n",
        "a=0\n",
        "var=m.split()\n",
        "for i in var:\n",
        "  if len(i)>a:\n",
        "    s=i\n",
        "    a=len(i)\n",
        "print(f'longest word in given string is : {s}')\n"
      ],
      "metadata": {
        "colab": {
          "base_uri": "https://localhost:8080/",
          "height": 0
        },
        "id": "71v2OZkK_NgV",
        "outputId": "304a49b7-4643-4deb-ed46-7f6cb88fb20b"
      },
      "execution_count": 17,
      "outputs": [
        {
          "output_type": "stream",
          "name": "stdout",
          "text": [
            "longest word in given string is : language\n"
          ]
        }
      ]
    },
    {
      "cell_type": "markdown",
      "source": [
        "### Question 7: write a python programme to find the sum of all the even characters based on Ascii values\n",
        "\n",
        "- `sample input : `\n",
        "    - `var = 'sharuk khan'`\n",
        "- `sample output :`\n",
        "    - `result : 464`\n"
      ],
      "metadata": {
        "id": "updl-ziddoeC"
      }
    },
    {
      "cell_type": "code",
      "source": [
        "var='sharuk khan'\n",
        "a=0\n",
        "\n",
        "for i in var:\n",
        "  if ord(i) % 2 == 0:\n",
        "    a=a+ord(i)\n",
        "print(a)"
      ],
      "metadata": {
        "colab": {
          "base_uri": "https://localhost:8080/",
          "height": 0
        },
        "id": "GhzAIjxsdw4J",
        "outputId": "432b2763-5d85-4d3d-ce87-6b0da94d7046"
      },
      "execution_count": 18,
      "outputs": [
        {
          "output_type": "stream",
          "name": "stdout",
          "text": [
            "464\n"
          ]
        }
      ]
    },
    {
      "cell_type": "markdown",
      "source": [
        "### Question 8: Write a Python program to capitalize the first letter of each word in a string [dont use built-in-function title].\n",
        "\n",
        "- `sample input : `\n",
        "    - `var = 'python is easy'`\n",
        "- `sample output :`\n",
        "    - `result : Python Is Easy`"
      ],
      "metadata": {
        "id": "pTnDtuTlBysw"
      }
    },
    {
      "cell_type": "code",
      "source": [
        "# pass"
      ],
      "metadata": {
        "id": "5T8cnWuIBUPO"
      },
      "execution_count": null,
      "outputs": []
    },
    {
      "cell_type": "markdown",
      "source": [
        "### Question 9: Write a Python program to find the frequency of each character in a string.\n",
        "\n",
        "- `sample input : `\n",
        "    - `var = 'sharuk khan'`\n",
        "- `sample output :`\n",
        "    - `result : {'s': 1, 'h': 2, 'a': 2, 'r': 1, 'u': 1, 'k': 2, ' ': 1, 'n': 1}`"
      ],
      "metadata": {
        "id": "bTHevYb8B5Of"
      }
    },
    {
      "cell_type": "code",
      "source": [
        "# pass"
      ],
      "metadata": {
        "id": "IUD4H7eyB59z"
      },
      "execution_count": null,
      "outputs": []
    },
    {
      "cell_type": "markdown",
      "source": [
        "### Question 10: Write a Python program to find the most common character in a string.\n",
        "\n",
        "- `sample input : `\n",
        "    - `var = 'Hello world '`\n",
        "- `sample output :`\n",
        "    - `result : l, because l is repeating 3 times `"
      ],
      "metadata": {
        "id": "xcbXJTzTdPg6"
      }
    },
    {
      "cell_type": "code",
      "source": [
        "# pass"
      ],
      "metadata": {
        "id": "zfU8BV4zI8Qb"
      },
      "execution_count": null,
      "outputs": []
    }
  ]
}